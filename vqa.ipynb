{
 "cells": [
  {
   "cell_type": "code",
   "execution_count": null,
   "id": "f877d15c",
   "metadata": {},
   "outputs": [],
   "source": [
    "\"hi\""
   ]
  },
  {
   "cell_type": "code",
   "execution_count": 4,
   "id": "cb00cf91",
   "metadata": {},
   "outputs": [
    {
     "name": "stdout",
     "output_type": "stream",
     "text": [
      "Traceback (most recent call last):\n",
      "  File \"utilities/resize_images.py\", line 4, in <module>\n",
      "    import cv2\n",
      "ModuleNotFoundError: No module named 'cv2'\n",
      "python: can't open file 'make_vacabs_for_questions_answers.py': [Errno 2] No such file or directory\n",
      "python: can't open file 'build_vqa_inputs.py': [Errno 2] No such file or directory\n"
     ]
    }
   ],
   "source": [
    "\"pre processing\"\n",
    "!python utilities/resize_images.py --input_dir='../datasets/Images' --output_dir='../datasets/Resized_Images'  \n",
    "!python make_vacabs_for_questions_answers.py --input_dir='../datasets'\n",
    "!python build_vqa_inputs.py --input_dir='../datasets' --output_dir='../datasets'"
   ]
  },
  {
   "cell_type": "code",
   "execution_count": null,
   "id": "3d2a354f",
   "metadata": {},
   "outputs": [],
   "source": []
  }
 ],
 "metadata": {
  "kernelspec": {
   "display_name": "Python 3",
   "language": "python",
   "name": "python3"
  },
  "language_info": {
   "codemirror_mode": {
    "name": "ipython",
    "version": 3
   },
   "file_extension": ".py",
   "mimetype": "text/x-python",
   "name": "python",
   "nbconvert_exporter": "python",
   "pygments_lexer": "ipython3",
   "version": "3.8.8"
  }
 },
 "nbformat": 4,
 "nbformat_minor": 5
}
