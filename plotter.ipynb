{
 "cells": [
  {
   "cell_type": "code",
   "execution_count": 1,
   "id": "f877d15c",
   "metadata": {},
   "outputs": [],
   "source": [
    "import numpy as np\n",
    "import csv\n",
    "import matplotlib.pyplot as plt"
   ]
  },
  {
   "cell_type": "code",
   "execution_count": 39,
   "id": "b2c7d65e-e510-4a17-973a-95a3babbd05b",
   "metadata": {},
   "outputs": [],
   "source": [
    "num_epochs = 25\n",
    "log_dir = 'logs'\n",
    "model_name = 'model name'"
   ]
  },
  {
   "cell_type": "code",
   "execution_count": null,
   "id": "cb00cf91",
   "metadata": {},
   "outputs": [],
   "source": [
    "fig, ax = plt.subplots(nrows=1, ncols=2, figsize=(10, 5))\n",
    "fig.tight_layout()  \n",
    "\n",
    "for phase in ['train', 'valid']:\n",
    "    \n",
    "    epoch = []\n",
    "    loss = []\n",
    "    acc = []\n",
    "    \n",
    "    for i in range(num_epochs):\n",
    "        with open('./{}/{}-log-epoch-{:02d}.txt'.format(log_dir, phase, i+1), 'r') as f:\n",
    "            df = csv.reader(f, delimiter='\\t')\n",
    "            data = list(df)\n",
    "\n",
    "        epoch.append(float(data[0][0]))\n",
    "        loss.append(float(data[0][1]))\n",
    "        acc.append(float(data[0][3]))\n",
    "\n",
    "    if phase == 'train':\n",
    "        ax[0].plot(epoch, loss, label = phase, color = 'red', linewidth = 5.0)\n",
    "    else:\n",
    "        ax[0].plot(epoch, loss, label = phase, color = 'blue', linewidth = 5.0)\n",
    "    \n",
    "    ax[0].set_title(f\"Loss history of {model_name}\")\n",
    "    ax[0].set_xlabel('Epoch', fontsize = 20)\n",
    "    ax[0].set_ylabel('Loss', fontsize = 20)\n",
    "\n",
    "    if phase == 'train':\n",
    "        ax[1].plot(epoch, acc, label = phase, color = 'red', linewidth = 5.0)\n",
    "    else:\n",
    "        ax[1].plot(epoch, acc, label = phase, color = 'blue', linewidth = 5.0)\n",
    "    \n",
    "    ax[1].set_title(f\"Accuracy history of {model_name}\")\n",
    "    ax[1].set_xlabel('Epoch', fontsize = 20)\n",
    "    ax[1].set_ylabel('Accuracy', fontsize = 20)\n",
    "    ax[1].legend(bbox_to_anchor=(1.05, 1), loc=2, borderaxespad=0., prop={'size': 20})\n",
    "    \n",
    "fig.savefig(f'./png/{model_name}.png', bbox_inches = 'tight')"
   ]
  },
  {
   "cell_type": "code",
   "execution_count": null,
   "id": "491b4097-828e-4047-b468-9a77c59eb3cf",
   "metadata": {},
   "outputs": [],
   "source": []
  }
 ],
 "metadata": {
  "kernelspec": {
   "display_name": "Python 3 (ipykernel)",
   "language": "python",
   "name": "python3"
  },
  "language_info": {
   "codemirror_mode": {
    "name": "ipython",
    "version": 3
   },
   "file_extension": ".py",
   "mimetype": "text/x-python",
   "name": "python",
   "nbconvert_exporter": "python",
   "pygments_lexer": "ipython3",
   "version": "3.9.7"
  }
 },
 "nbformat": 4,
 "nbformat_minor": 5
}
