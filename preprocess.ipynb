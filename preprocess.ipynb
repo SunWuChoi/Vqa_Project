{
 "cells": [
  {
   "cell_type": "code",
   "execution_count": 10,
   "id": "f877d15c",
   "metadata": {},
   "outputs": [],
   "source": [
    "#Preprocessing"
   ]
  },
  {
   "cell_type": "code",
   "execution_count": 3,
   "id": "cb00cf91",
   "metadata": {},
   "outputs": [
    {
     "name": "stdout",
     "output_type": "stream",
     "text": [
      "^C\n"
     ]
    }
   ],
   "source": [
    "# Resizing Images to 224 x 224\n",
    "# This will create a new folder under datasets folder called Resized_Images\n",
    "!python utilities/resize_images.py --input_dir=datasets/Images --output_dir=datasets/Resized_Images"
   ]
  },
  {
   "cell_type": "code",
   "execution_count": 4,
   "id": "a8eb7ffe-5846-445c-b024-833204c8e4f9",
   "metadata": {},
   "outputs": [
    {
     "name": "stdout",
     "output_type": "stream",
     "text": [
      "Make vocabulary for questions\n",
      "The number of total words of questions: 17854\n",
      "Maximum length of question: 26\n",
      "Make vocabulary for answers\n",
      "The number of total words of answers: 181102\n",
      "Keep top 1000 answers into vocab\n"
     ]
    }
   ],
   "source": [
    "# Creating questions for answers using the annotation and question json files\n",
    "!python utilities/make_vocabs_for_questions_answers.py --input_dir=datasets"
   ]
  },
  {
   "cell_type": "code",
   "execution_count": 5,
   "id": "789356fb-c4d3-4650-9ade-bba22fc476e3",
   "metadata": {},
   "outputs": [
    {
     "name": "stdout",
     "output_type": "stream",
     "text": [
      "building vqa train2014 dataset\n",
      "processing 10000 / 443757\n",
      "processing 20000 / 443757\n",
      "processing 30000 / 443757\n",
      "processing 40000 / 443757\n",
      "processing 50000 / 443757\n",
      "processing 60000 / 443757\n",
      "processing 70000 / 443757\n",
      "processing 80000 / 443757\n",
      "processing 90000 / 443757\n",
      "processing 100000 / 443757\n",
      "processing 110000 / 443757\n",
      "processing 120000 / 443757\n",
      "processing 130000 / 443757\n",
      "processing 140000 / 443757\n",
      "processing 150000 / 443757\n",
      "processing 160000 / 443757\n",
      "processing 170000 / 443757\n",
      "processing 180000 / 443757\n",
      "processing 190000 / 443757\n",
      "processing 200000 / 443757\n",
      "processing 210000 / 443757\n",
      "processing 220000 / 443757\n",
      "processing 230000 / 443757\n",
      "processing 240000 / 443757\n",
      "processing 250000 / 443757\n",
      "processing 260000 / 443757\n",
      "processing 270000 / 443757\n",
      "processing 280000 / 443757\n",
      "processing 290000 / 443757\n",
      "processing 300000 / 443757\n",
      "processing 310000 / 443757\n",
      "processing 320000 / 443757\n",
      "processing 330000 / 443757\n",
      "processing 340000 / 443757\n",
      "processing 350000 / 443757\n",
      "processing 360000 / 443757\n",
      "processing 370000 / 443757\n",
      "processing 380000 / 443757\n",
      "processing 390000 / 443757\n",
      "processing 400000 / 443757\n",
      "processing 410000 / 443757\n",
      "processing 420000 / 443757\n",
      "processing 430000 / 443757\n",
      "processing 440000 / 443757\n",
      "total 21164 out of 443757 answers are <unk>\n",
      "building vqa val2014 dataset\n",
      "processing 10000 / 214354\n",
      "processing 20000 / 214354\n",
      "processing 30000 / 214354\n",
      "processing 40000 / 214354\n",
      "processing 50000 / 214354\n",
      "processing 60000 / 214354\n",
      "processing 70000 / 214354\n",
      "processing 80000 / 214354\n",
      "processing 90000 / 214354\n",
      "processing 100000 / 214354\n",
      "processing 110000 / 214354\n",
      "processing 120000 / 214354\n",
      "processing 130000 / 214354\n",
      "processing 140000 / 214354\n",
      "processing 150000 / 214354\n",
      "processing 160000 / 214354\n",
      "processing 170000 / 214354\n",
      "processing 180000 / 214354\n",
      "processing 190000 / 214354\n",
      "processing 200000 / 214354\n",
      "processing 210000 / 214354\n",
      "total 10342 out of 214354 answers are <unk>\n",
      "building vqa test2015 dataset\n",
      "processing 10000 / 447793\n",
      "processing 20000 / 447793\n",
      "processing 30000 / 447793\n",
      "processing 40000 / 447793\n",
      "processing 50000 / 447793\n",
      "processing 60000 / 447793\n",
      "processing 70000 / 447793\n",
      "processing 80000 / 447793\n",
      "processing 90000 / 447793\n",
      "processing 100000 / 447793\n",
      "processing 110000 / 447793\n",
      "processing 120000 / 447793\n",
      "processing 130000 / 447793\n",
      "processing 140000 / 447793\n",
      "processing 150000 / 447793\n",
      "processing 160000 / 447793\n",
      "processing 170000 / 447793\n",
      "processing 180000 / 447793\n",
      "processing 190000 / 447793\n",
      "processing 200000 / 447793\n",
      "processing 210000 / 447793\n",
      "processing 220000 / 447793\n",
      "processing 230000 / 447793\n",
      "processing 240000 / 447793\n",
      "processing 250000 / 447793\n",
      "processing 260000 / 447793\n",
      "processing 270000 / 447793\n",
      "processing 280000 / 447793\n",
      "processing 290000 / 447793\n",
      "processing 300000 / 447793\n",
      "processing 310000 / 447793\n",
      "processing 320000 / 447793\n",
      "processing 330000 / 447793\n",
      "processing 340000 / 447793\n",
      "processing 350000 / 447793\n",
      "processing 360000 / 447793\n",
      "processing 370000 / 447793\n",
      "processing 380000 / 447793\n",
      "processing 390000 / 447793\n",
      "processing 400000 / 447793\n",
      "processing 410000 / 447793\n",
      "processing 420000 / 447793\n",
      "processing 430000 / 447793\n",
      "processing 440000 / 447793\n",
      "total 0 out of 447793 answers are <unk>\n",
      "building vqa test-dev2015 dataset\n",
      "processing 10000 / 107394\n",
      "processing 20000 / 107394\n",
      "processing 30000 / 107394\n",
      "processing 40000 / 107394\n",
      "processing 50000 / 107394\n",
      "processing 60000 / 107394\n",
      "processing 70000 / 107394\n",
      "processing 80000 / 107394\n",
      "processing 90000 / 107394\n",
      "processing 100000 / 107394\n",
      "total 0 out of 107394 answers are <unk>\n"
     ]
    }
   ],
   "source": [
    "# Creating the input of npy file type that has the information of the image path and the question and answers\n",
    "!python utilities/build_vqa_inputs.py --input_dir=datasets --output_dir=datasets"
   ]
  },
  {
   "cell_type": "code",
   "execution_count": null,
   "id": "74356ed0",
   "metadata": {},
   "outputs": [],
   "source": []
  }
 ],
 "metadata": {
  "kernelspec": {
   "display_name": "Python 3 (ipykernel)",
   "language": "python",
   "name": "python3"
  },
  "language_info": {
   "codemirror_mode": {
    "name": "ipython",
    "version": 3
   },
   "file_extension": ".py",
   "mimetype": "text/x-python",
   "name": "python",
   "nbconvert_exporter": "python",
   "pygments_lexer": "ipython3",
   "version": "3.9.7"
  }
 },
 "nbformat": 4,
 "nbformat_minor": 5
}
