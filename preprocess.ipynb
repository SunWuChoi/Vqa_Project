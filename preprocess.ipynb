{
 "cells": [
  {
   "cell_type": "code",
   "execution_count": 10,
   "id": "f877d15c",
   "metadata": {},
   "outputs": [],
   "source": [
    "#Preprocessing"
   ]
  },
  {
   "cell_type": "code",
   "execution_count": null,
   "id": "cb00cf91",
   "metadata": {},
   "outputs": [],
   "source": [
    "# Resizing Images to 224 x 224\n",
    "# This will create a new folder under datasets folder called Resized_Images\n",
    "!python utilities/resize_images.py --input_dir=datasets/Images --output_dir=datasets/Resized_Images"
   ]
  },
  {
   "cell_type": "code",
   "execution_count": null,
   "id": "a8eb7ffe-5846-445c-b024-833204c8e4f9",
   "metadata": {},
   "outputs": [],
   "source": [
    "# Creating questions for answers using the annotation and question json files\n",
    "!python utilities/make_vocabs_for_questions_answers.py --input_dir=datasets"
   ]
  },
  {
   "cell_type": "code",
   "execution_count": null,
   "id": "789356fb-c4d3-4650-9ade-bba22fc476e3",
   "metadata": {},
   "outputs": [],
   "source": [
    "# Creating the input of npy file type that has the information of the image path and the question and answers\n",
    "!python utilities/build_vqa_inputs.py --input_dir=datasets --output_dir=datasets"
   ]
  }
 ],
 "metadata": {
  "kernelspec": {
   "display_name": "Python 3 (ipykernel)",
   "language": "python",
   "name": "python3"
  },
  "language_info": {
   "codemirror_mode": {
    "name": "ipython",
    "version": 3
   },
   "file_extension": ".py",
   "mimetype": "text/x-python",
   "name": "python",
   "nbconvert_exporter": "python",
   "pygments_lexer": "ipython3",
   "version": "3.8.12"
  }
 },
 "nbformat": 4,
 "nbformat_minor": 5
}
